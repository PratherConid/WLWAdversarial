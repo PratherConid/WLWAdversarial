{
 "cells": [
  {
   "cell_type": "code",
   "execution_count": 2,
   "metadata": {},
   "outputs": [],
   "source": [
    "import numpy as np\n",
    "import torch\n",
    "import time\n",
    "from matplotlib import pyplot as plt\n",
    "FUN = torch.nn.functional"
   ]
  },
  {
   "cell_type": "markdown",
   "metadata": {},
   "source": [
    "### Testing the properties of the distribution\n",
    "The distribution is obtained passing a uniform distribution through a layer/neuron"
   ]
  },
  {
   "cell_type": "code",
   "execution_count": 1,
   "metadata": {},
   "outputs": [],
   "source": [
    "def test_neuron(neu_class, inp_dim, iter=100, batch=200, params=[]):\n",
    "    res = []\n",
    "    for i in range(iter):\n",
    "        neu = neu_class(inp_dim, *params)\n",
    "        res.append(neu(torch.rand(batch, inp_dim)))\n",
    "    return torch.stack(res, dim=0)\n",
    "\n",
    "def test_neuron_var(neu_class, inp_dim, iter=100, batch=200, params=[]):\n",
    "    res = []\n",
    "    for i in range(iter):\n",
    "        neu = neu_class(inp_dim, *params)\n",
    "        res.append(torch.var(neu(torch.rand(batch, inp_dim))))\n",
    "    return torch.stack(res, dim=0)"
   ]
  },
  {
   "cell_type": "markdown",
   "metadata": {},
   "source": [
    "### Empirical Test of L-Infinity neurons"
   ]
  },
  {
   "cell_type": "code",
   "execution_count": 35,
   "metadata": {},
   "outputs": [],
   "source": [
    "class l_p(object):\n",
    "    \n",
    "    def __init__(self, inp_dim, p=torch.inf):\n",
    "        self.w = torch.rand(inp_dim)\n",
    "        self.b = torch.rand(1)\n",
    "        self.p = p\n",
    "\n",
    "    def __call__(self, x):\n",
    "        return torch.norm(x - self.w, p=self.p, dim=-1) + self.b\n",
    "\n",
    "class direct_max(object):\n",
    "\n",
    "    def __init__(self, inp_dim):\n",
    "        self.w = torch.rand(inp_dim)\n",
    "        self.b = torch.rand(1)\n",
    "\n",
    "    def __call__(self, x):\n",
    "        return torch.amax(x - self.w, dim=-1) + self.b\n",
    "\n",
    "class bt_four(object):\n",
    "\n",
    "    def __init__(self, inp_dim, p=torch.inf):\n",
    "        assert inp_dim == 4\n",
    "        self.w1 = torch.rand(4)\n",
    "        self.w2 = torch.rand(2)\n",
    "        self.b = torch.rand(1)\n",
    "        self.p = p\n",
    "\n",
    "    def __call__(self, x):\n",
    "        r1 = torch.norm((x - self.w1).reshape(x.shape[:-1] + (2, 2)), p=self.p, dim=-1)\n",
    "        r2 = torch.norm(r1 - self.w2, p=self.p, dim = -1)\n",
    "        return r2 + self.b\n",
    "\n",
    "class minimax_four(object):\n",
    "\n",
    "    def __init__(self, inp_dim):\n",
    "        assert inp_dim == 4\n",
    "        self.w1 = torch.rand(4)\n",
    "        self.w2 = torch.rand(2)\n",
    "        self.b = torch.rand(1)\n",
    "    \n",
    "    def __call__(self, x):\n",
    "        r1 = torch.amax((x - self.w1).reshape(x.shape[:-1] + (2, 2)), dim=-1)\n",
    "        r2 = torch.amin(r1 - self.w2, dim=-1)\n",
    "        return r2 + self.b\n",
    "\n",
    "class bt_weighted_four(object):\n",
    "\n",
    "    def __init__(self, inp_dim, p=torch.inf):\n",
    "        eps = 0.005\n",
    "        self.p = p\n",
    "        assert inp_dim == 4\n",
    "        self.m1 = torch.rand(4, 1)\n",
    "        sum_m1 = torch.sum(self.m1, dim=0) + eps\n",
    "        self.m1 /= sum_m1\n",
    "        self.w1 = torch.rand(1)\n",
    "        self.b = torch.rand(1)\n",
    "\n",
    "    def __call__(self, x):\n",
    "        return torch.norm(torch.mm(x, self.m1) - self.w1, p=self.p, dim=-1) + self.b\n"
   ]
  },
  {
   "cell_type": "code",
   "execution_count": 36,
   "metadata": {},
   "outputs": [],
   "source": [
    "res_l_p = test_neuron_var(l_p, 4, 4000, 10000)\n",
    "res_bt = test_neuron_var(bt_four, 4, 4000, 10000)\n",
    "res_direct = test_neuron_var(direct_max, 4, 4000, 10000)\n",
    "res_minimax = test_neuron_var(minimax_four, 4, 4000, 10000)"
   ]
  },
  {
   "cell_type": "code",
   "execution_count": 37,
   "metadata": {},
   "outputs": [
    {
     "data": {
      "text/plain": [
       "(array([255., 554., 496., 392., 364., 442., 373., 249., 184., 160., 118.,\n",
       "         92.,  84.,  65.,  50.,  45.,  30.,  20.,  17.,  10.]),\n",
       " array([0.04454691, 0.04646265, 0.04837838, 0.05029412, 0.05220985,\n",
       "        0.05412559, 0.05604133, 0.05795706, 0.0598728 , 0.06178854,\n",
       "        0.06370427, 0.06562001, 0.06753574, 0.06945148, 0.07136722,\n",
       "        0.07328295, 0.07519869, 0.07711443, 0.07903016, 0.08094589,\n",
       "        0.08286163], dtype=float32),\n",
       " <BarContainer object of 20 artists>)"
      ]
     },
     "execution_count": 37,
     "metadata": {},
     "output_type": "execute_result"
    },
    {
     "data": {
      "image/png": "[encoded data removed]",
      "text/plain": [
       "<Figure size 432x288 with 1 Axes>"
      ]
     },
     "metadata": {
      "needs_background": "light"
     },
     "output_type": "display_data"
    }
   ],
   "source": [
    "plt.hist(res_l_p.numpy(), bins=20, alpha=0.6)\n",
    "plt.hist(res_bt.numpy(), bins=20, alpha=0.6)\n",
    "plt.hist(res_direct.numpy(), bins=20, alpha=0.6)\n",
    "plt.hist(res_minimax.numpy(), bins=20, alpha=0.6)"
   ]
  }
 ],
 "metadata": {
  "interpreter": {
   "hash": "3a5f714b4f6e5a2acf9ea4e7b1c0c43f376d2284ed3b59922760a9b4b748ea21"
  },
  "kernelspec": {
   "display_name": "Python 3.9.12 ('torch')",
   "language": "python",
   "name": "python3"
  },
  "language_info": {
   "codemirror_mode": {
    "name": "ipython",
    "version": 3
   },
   "file_extension": ".py",
   "mimetype": "text/x-python",
   "name": "python",
   "nbconvert_exporter": "python",
   "pygments_lexer": "ipython3",
   "version": "3.9.12"
  },
  "orig_nbformat": 4
 },
 "nbformat": 4,
 "nbformat_minor": 2
}
