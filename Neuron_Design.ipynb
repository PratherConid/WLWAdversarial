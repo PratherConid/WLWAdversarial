{
 "cells": [
  {
   "cell_type": "code",
   "execution_count": 2,
   "metadata": {},
   "outputs": [],
   "source": [
    "import numpy as np\n",
    "import torch\n",
    "import time\n",
    "from matplotlib import pyplot as plt\n",
    "FUN = torch.nn.functional"
   ]
  },
  {
   "cell_type": "markdown",
   "metadata": {},
   "source": [
    "### Testing the properties of the distribution\n",
    "The distribution is obtained passing a uniform distribution through a layer/neuron"
   ]
  },
  {
   "cell_type": "code",
   "execution_count": 1,
   "metadata": {},
   "outputs": [],
   "source": [
    "def test_neuron(neu_class, inp_dim, iter=100, batch=200, params=[]):\n",
    "    res = []\n",
    "    for i in range(iter):\n",
    "        neu = neu_class(inp_dim, *params)\n",
    "        res.append(neu(torch.rand(batch, inp_dim)))\n",
    "    return torch.stack(res, dim=0)\n",
    "\n",
    "def test_neuron_var(neu_class, inp_dim, iter=100, batch=200, params=[]):\n",
    "    res = []\n",
    "    for i in range(iter):\n",
    "        neu = neu_class(inp_dim, *params)\n",
    "        res.append(torch.var(neu(torch.rand(batch, inp_dim))))\n",
    "    return torch.stack(res, dim=0)"
   ]
  },
  {
   "cell_type": "markdown",
   "metadata": {},
   "source": [
    "### Empirical Test of L-Infinity neurons"
   ]
  },
  {
   "cell_type": "code",
   "execution_count": 31,
   "metadata": {},
   "outputs": [],
   "source": [
    "class l_p(object):\n",
    "    \n",
    "    def __init__(self, inp_dim, p=torch.inf):\n",
    "        self.w = torch.rand(inp_dim)\n",
    "        self.b = torch.rand(1)\n",
    "        self.p = p\n",
    "\n",
    "    def __call__(self, x):\n",
    "        return torch.norm(x - self.w, p=self.p, dim=-1) + self.b\n",
    "\n",
    "class direct_max(object):\n",
    "\n",
    "    def __init__(self, inp_dim):\n",
    "        self.w = torch.rand(inp_dim)\n",
    "        self.b = torch.rand(1)\n",
    "\n",
    "    def __call__(self, x):\n",
    "        return torch.amax(x - self.w, dim=-1) + self.b\n",
    "\n",
    "class bt_four(object):\n",
    "\n",
    "    def __init__(self, inp_dim, p=torch.inf):\n",
    "        assert inp_dim == 4\n",
    "        self.w1 = torch.rand(4)\n",
    "        self.w2 = torch.rand(2)\n",
    "        self.b = torch.rand(1)\n",
    "        self.p = p\n",
    "\n",
    "    def __call__(self, x):\n",
    "        r1 = torch.norm((x - self.w1).reshape(x.shape[:-1] + (2, 2)), p=self.p, dim=-1)\n",
    "        r2 = torch.norm(r1 - self.w2, p=self.p, dim = -1)\n",
    "        return r2 + self.b\n",
    "\n",
    "class minimax_four(object):\n",
    "\n",
    "    def __init__(self, inp_dim):\n",
    "        assert inp_dim == 4\n",
    "        self.w1 = torch.rand(4)\n",
    "        self.w2 = torch.rand(2)\n",
    "        self.b = torch.rand(1)\n",
    "    \n",
    "    def __call__(self, x):\n",
    "        r1 = torch.amax((x - self.w1).reshape(x.shape[:-1] + (2, 2)), dim=-1)\n",
    "        r2 = torch.amin(r1 - self.w2, dim=-1)\n",
    "        return r2 + self.b\n",
    "\n",
    "class bt_weighted_four(object):\n",
    "\n",
    "    def __init__(self, inp_dim, p=torch.inf):\n",
    "        eps = 0.005\n",
    "        self.p = p\n",
    "        assert inp_dim == 4\n",
    "        self.m1 = torch.rand(4, 1)\n",
    "        sum_m1 = torch.sum(self.m1, dim=0) + eps\n",
    "        self.m1 /= sum_m1\n",
    "        self.w1 = torch.rand(1)\n",
    "        self.b = torch.rand(1)\n",
    "\n",
    "    def __call__(self, x):\n",
    "        return torch.norm(torch.mm(x, self.m1) - self.w1, p=self.p, dim=-1) + self.b\n"
   ]
  },
  {
   "cell_type": "code",
   "execution_count": 32,
   "metadata": {},
   "outputs": [],
   "source": [
    "res_naive = test_neuron_var(naive_four, 4, 4000, 10000)\n",
    "res_bt = test_neuron_var(bt_four, 4, 4000, 10000)\n",
    "res_minimax = test_neuron_var(minimax_four, 4, 4000, 10000)"
   ]
  },
  {
   "cell_type": "code",
   "execution_count": 33,
   "metadata": {},
   "outputs": [
    {
     "data": {
      "text/plain": [
       "(array([159., 595., 516., 387., 357., 468., 385., 233., 187., 156., 129.,\n",
       "        109.,  75.,  70.,  55.,  48.,  30.,  20.,  15.,   6.]),\n",
       " array([0.04432218, 0.04624513, 0.04816809, 0.05009104, 0.052014  ,\n",
       "        0.05393695, 0.05585991, 0.05778287, 0.05970582, 0.06162878,\n",
       "        0.06355173, 0.06547469, 0.06739764, 0.0693206 , 0.07124355,\n",
       "        0.0731665 , 0.07508946, 0.07701242, 0.07893538, 0.08085833,\n",
       "        0.08278129], dtype=float32),\n",
       " <BarContainer object of 20 artists>)"
      ]
     },
     "execution_count": 33,
     "metadata": {},
     "output_type": "execute_result"
    },
    {
     "data": {
      "image/png": "[encoded data removed]",
      "text/plain": [
       "<Figure size 432x288 with 1 Axes>"
      ]
     },
     "metadata": {
      "needs_background": "light"
     },
     "output_type": "display_data"
    }
   ],
   "source": [
    "plt.hist(res_naive.numpy(), bins=20, alpha=0.6)\n",
    "plt.hist(res_bt.numpy(), bins=20, alpha=0.6)\n",
    "plt.hist(res_minimax.numpy(), bins=20, alpha=0.6)"
   ]
  }
 ],
 "metadata": {
  "interpreter": {
   "hash": "3a5f714b4f6e5a2acf9ea4e7b1c0c43f376d2284ed3b59922760a9b4b748ea21"
  },
  "kernelspec": {
   "display_name": "Python 3.9.12 ('torch')",
   "language": "python",
   "name": "python3"
  },
  "language_info": {
   "codemirror_mode": {
    "name": "ipython",
    "version": 3
   },
   "file_extension": ".py",
   "mimetype": "text/x-python",
   "name": "python",
   "nbconvert_exporter": "python",
   "pygments_lexer": "ipython3",
   "version": "3.9.12"
  },
  "orig_nbformat": 4
 },
 "nbformat": 4,
 "nbformat_minor": 2
}
