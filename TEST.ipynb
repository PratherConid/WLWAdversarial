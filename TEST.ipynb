{
 "cells": [
  {
   "cell_type": "code",
   "execution_count": 1,
   "metadata": {},
   "outputs": [],
   "source": [
    "import torch\n",
    "FUN = torch.nn.functional"
   ]
  },
  {
   "cell_type": "code",
   "execution_count": 2,
   "metadata": {},
   "outputs": [],
   "source": [
    "weight = torch.rand(32, 6, 3, 3)\n",
    "inp = torch.rand(6, 32, 32)\n",
    "s = inp.unfold(-2, 3, 1).unfold(-2, 3, 1)"
   ]
  },
  {
   "cell_type": "code",
   "execution_count": 3,
   "metadata": {},
   "outputs": [],
   "source": [
    "sn = torch.permute(s, [1, 2, 0, 3, 4])\n",
    "wn = weight.broadcast_to((sn.shape[:2]) + weight.shape)\n",
    "wn = torch.permute(wn, (2, 0, 1, 3, 4, 5))"
   ]
  },
  {
   "cell_type": "code",
   "execution_count": 4,
   "metadata": {},
   "outputs": [
    {
     "data": {
      "text/plain": [
       "torch.Size([30, 30, 6, 3, 3])"
      ]
     },
     "execution_count": 4,
     "metadata": {},
     "output_type": "execute_result"
    }
   ],
   "source": [
    "sn.shape"
   ]
  },
  {
   "cell_type": "code",
   "execution_count": 5,
   "metadata": {},
   "outputs": [],
   "source": [
    "from models.layers.Lip_Layer import Uni_Linear"
   ]
  },
  {
   "cell_type": "code",
   "execution_count": 6,
   "metadata": {},
   "outputs": [],
   "source": [
    "import numpy as np"
   ]
  },
  {
   "cell_type": "code",
   "execution_count": 7,
   "metadata": {},
   "outputs": [
    {
     "data": {
      "text/plain": [
       "tensor([[-0.0220,  0.0888,  0.0433,  ...,  0.1099, -0.0257, -0.2507],\n",
       "        [-0.1250,  0.1861,  0.0949,  ...,  0.2440, -0.1158, -0.1956],\n",
       "        [ 0.0085,  0.1105,  0.0512,  ...,  0.2127, -0.1498, -0.2553],\n",
       "        ...,\n",
       "        [-0.0084,  0.0278, -0.0353,  ...,  0.0791, -0.1344, -0.3282],\n",
       "        [-0.0067,  0.0907,  0.0273,  ...,  0.2108, -0.1647, -0.1830],\n",
       "        [-0.2282,  0.0795,  0.0234,  ...,  0.1010, -0.1300, -0.2739]],\n",
       "       grad_fn=<AddBackward0>)"
      ]
     },
     "execution_count": 7,
     "metadata": {},
     "output_type": "execute_result"
    }
   ],
   "source": [
    "inp = torch.rand(256, 32)\n",
    "ly = Uni_Linear(32, 45)\n",
    "ly.forward(inp)"
   ]
  },
  {
   "cell_type": "code",
   "execution_count": 8,
   "metadata": {},
   "outputs": [],
   "source": [
    "# torch.var(ly.forward(inp)[0].detach()), ly.forward(inp).shape"
   ]
  }
 ],
 "metadata": {
  "interpreter": {
   "hash": "3a5f714b4f6e5a2acf9ea4e7b1c0c43f376d2284ed3b59922760a9b4b748ea21"
  },
  "kernelspec": {
   "display_name": "Python 3.9.12 ('torch')",
   "language": "python",
   "name": "python3"
  },
  "language_info": {
   "codemirror_mode": {
    "name": "ipython",
    "version": 3
   },
   "file_extension": ".py",
   "mimetype": "text/x-python",
   "name": "python",
   "nbconvert_exporter": "python",
   "pygments_lexer": "ipython3",
   "version": "3.9.12"
  },
  "orig_nbformat": 4
 },
 "nbformat": 4,
 "nbformat_minor": 2
}
